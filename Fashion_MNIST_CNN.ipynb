{
  "nbformat": 4,
  "nbformat_minor": 0,
  "metadata": {
    "colab": {
      "name": "Fashion_MNIST_CNN",
      "provenance": [],
      "collapsed_sections": []
    },
    "kernelspec": {
      "name": "python3",
      "display_name": "Python 3"
    },
    "accelerator": "GPU"
  },
  "cells": [
    {
      "cell_type": "code",
      "metadata": {
        "id": "1faXBbMiXzwS",
        "colab_type": "code",
        "outputId": "be5be4e7-d529-4c3b-937d-d33721ea2cbf",
        "colab": {
          "base_uri": "https://localhost:8080/",
          "height": 83
        }
      },
      "source": [
        "from keras.datasets import fashion_mnist"
      ],
      "execution_count": 0,
      "outputs": [
        {
          "output_type": "stream",
          "text": [
            "Using TensorFlow backend.\n"
          ],
          "name": "stderr"
        },
        {
          "output_type": "display_data",
          "data": {
            "text/html": [
              "<p style=\"color: red;\">\n",
              "The default version of TensorFlow in Colab will soon switch to TensorFlow 2.x.<br>\n",
              "We recommend you <a href=\"https://www.tensorflow.org/guide/migrate\" target=\"_blank\">upgrade</a> now \n",
              "or ensure your notebook will continue to use TensorFlow 1.x via the <code>%tensorflow_version 1.x</code> magic:\n",
              "<a href=\"https://colab.research.google.com/notebooks/tensorflow_version.ipynb\" target=\"_blank\">more info</a>.</p>\n"
            ],
            "text/plain": [
              "<IPython.core.display.HTML object>"
            ]
          },
          "metadata": {
            "tags": []
          }
        }
      ]
    },
    {
      "cell_type": "code",
      "metadata": {
        "id": "_KV0aDPKiyvG",
        "colab_type": "code",
        "outputId": "fc6d3160-7526-4b9f-d1fb-796ebf9cbabb",
        "colab": {
          "base_uri": "https://localhost:8080/",
          "height": 163
        }
      },
      "source": [
        "(train_x,train_y),(test_x,test_y) = fashion_mnist.load_data()"
      ],
      "execution_count": 0,
      "outputs": [
        {
          "output_type": "stream",
          "text": [
            "Downloading data from http://fashion-mnist.s3-website.eu-central-1.amazonaws.com/train-labels-idx1-ubyte.gz\n",
            "32768/29515 [=================================] - 0s 0us/step\n",
            "Downloading data from http://fashion-mnist.s3-website.eu-central-1.amazonaws.com/train-images-idx3-ubyte.gz\n",
            "26427392/26421880 [==============================] - 0s 0us/step\n",
            "Downloading data from http://fashion-mnist.s3-website.eu-central-1.amazonaws.com/t10k-labels-idx1-ubyte.gz\n",
            "8192/5148 [===============================================] - 0s 0us/step\n",
            "Downloading data from http://fashion-mnist.s3-website.eu-central-1.amazonaws.com/t10k-images-idx3-ubyte.gz\n",
            "4423680/4422102 [==============================] - 0s 0us/step\n"
          ],
          "name": "stdout"
        }
      ]
    },
    {
      "cell_type": "code",
      "metadata": {
        "id": "8BKAcQarKIkM",
        "colab_type": "code",
        "outputId": "64c7b97d-f0dc-453c-bdb0-583f4ece3782",
        "colab": {
          "base_uri": "https://localhost:8080/",
          "height": 35
        }
      },
      "source": [
        "print(train_x.shape,train_y.shape,test_x.shape,test_y.shape)"
      ],
      "execution_count": 0,
      "outputs": [
        {
          "output_type": "stream",
          "text": [
            "(60000, 28, 28) (60000,) (10000, 28, 28) (10000,)\n"
          ],
          "name": "stdout"
        }
      ]
    },
    {
      "cell_type": "code",
      "metadata": {
        "id": "hcdlVQJnKLyN",
        "colab_type": "code",
        "colab": {}
      },
      "source": [
        "import matplotlib.pyplot as plt \n",
        "from keras.utils import to_categorical\n",
        "import numpy as np "
      ],
      "execution_count": 0,
      "outputs": []
    },
    {
      "cell_type": "code",
      "metadata": {
        "id": "vk1Uq6gCKwTq",
        "colab_type": "code",
        "outputId": "085a691c-7e6a-43e8-88b4-b1bfb94f9df9",
        "colab": {
          "base_uri": "https://localhost:8080/",
          "height": 35
        }
      },
      "source": [
        "#unique class labels\n",
        "print(len(np.unique(train_y)))"
      ],
      "execution_count": 0,
      "outputs": [
        {
          "output_type": "stream",
          "text": [
            "10\n"
          ],
          "name": "stdout"
        }
      ]
    },
    {
      "cell_type": "code",
      "metadata": {
        "id": "xRjNVTtDLPi_",
        "colab_type": "code",
        "outputId": "ecb9332c-7563-422c-aeb8-c06703306e69",
        "colab": {
          "base_uri": "https://localhost:8080/",
          "height": 390
        }
      },
      "source": [
        "#displaying images \n",
        "\n",
        "plt.figure(figsize=(5,5))\n",
        "\n",
        "plt.subplot(121)\n",
        "\n",
        "plt.imshow(train_x[0,:],cmap='gray')\n",
        "plt.title(f'Label : {train_y[0]}')\n",
        "plt.show()\n",
        "\n",
        "\n",
        "plt.subplot(122)\n",
        "\n",
        "plt.imshow(test_x[1,:],cmap='gray')\n",
        "plt.title(f'Label : {test_y[1]}')\n",
        "plt.show()\n"
      ],
      "execution_count": 0,
      "outputs": [
        {
          "output_type": "display_data",
          "data": {
            "image/png": "[encoded data removed]",
            "text/plain": [
              "<Figure size 360x360 with 1 Axes>"
            ]
          },
          "metadata": {
            "tags": []
          }
        },
        {
          "output_type": "display_data",
          "data": {
            "image/png": "[encoded data removed]",
            "text/plain": [
              "<Figure size 432x288 with 1 Axes>"
            ]
          },
          "metadata": {
            "tags": []
          }
        }
      ]
    },
    {
      "cell_type": "markdown",
      "metadata": {
        "id": "CwBimJZDxouN",
        "colab_type": "text"
      },
      "source": [
        "## Data Preprocessing"
      ]
    },
    {
      "cell_type": "code",
      "metadata": {
        "id": "b79P5VOmMISh",
        "colab_type": "code",
        "colab": {}
      },
      "source": [
        "train_x = train_x.reshape(-1,28,28,1)\n",
        "test_x = test_x.reshape(-1,28,28,1)"
      ],
      "execution_count": 0,
      "outputs": []
    },
    {
      "cell_type": "code",
      "metadata": {
        "id": "AKzvFS7jDEcB",
        "colab_type": "code",
        "outputId": "66e5910d-b454-4732-d38f-1384a9cebafe",
        "colab": {
          "base_uri": "https://localhost:8080/",
          "height": 35
        }
      },
      "source": [
        "print(train_x.shape,test_x.shape)"
      ],
      "execution_count": 0,
      "outputs": [
        {
          "output_type": "stream",
          "text": [
            "(60000, 28, 28, 1) (10000, 28, 28, 1)\n"
          ],
          "name": "stdout"
        }
      ]
    },
    {
      "cell_type": "code",
      "metadata": {
        "id": "9gFPi6HzDWWC",
        "colab_type": "code",
        "colab": {}
      },
      "source": [
        "train_x = train_x.astype('float32')\n",
        "test_x = test_x.astype('float32')"
      ],
      "execution_count": 0,
      "outputs": []
    },
    {
      "cell_type": "code",
      "metadata": {
        "id": "YRB3d2WNDcU8",
        "colab_type": "code",
        "colab": {}
      },
      "source": [
        "train_x = train_x/255.\n",
        "test_x = test_x/255."
      ],
      "execution_count": 0,
      "outputs": []
    },
    {
      "cell_type": "markdown",
      "metadata": {
        "id": "EIYn_sxyEFqh",
        "colab_type": "text"
      },
      "source": [
        "## OneHotEncoding (preprocessing labels)"
      ]
    },
    {
      "cell_type": "code",
      "metadata": {
        "id": "AjTHROtPD2dI",
        "colab_type": "code",
        "colab": {}
      },
      "source": [
        "y_train_one_hot = to_categorical(train_y)\n",
        "y_test_one_hot = to_categorical(test_y)"
      ],
      "execution_count": 0,
      "outputs": []
    },
    {
      "cell_type": "code",
      "metadata": {
        "id": "QgxhWklpHl9L",
        "colab_type": "code",
        "outputId": "8db7e12a-156a-49ec-bfcf-d48c23263f25",
        "colab": {
          "base_uri": "https://localhost:8080/",
          "height": 54
        }
      },
      "source": [
        "print('original label:',train_y[0])\n",
        "print('one_hot label :',y_train_one_hot[0])"
      ],
      "execution_count": 0,
      "outputs": [
        {
          "output_type": "stream",
          "text": [
            "original label: 9\n",
            "one_hot label : [0. 0. 0. 0. 0. 0. 0. 0. 0. 1.]\n"
          ],
          "name": "stdout"
        }
      ]
    },
    {
      "cell_type": "markdown",
      "metadata": {
        "id": "Y-ccIgEwIJe3",
        "colab_type": "text"
      },
      "source": [
        "Splitting data into train and validation "
      ]
    },
    {
      "cell_type": "code",
      "metadata": {
        "id": "XNnSDQWdHs8v",
        "colab_type": "code",
        "colab": {}
      },
      "source": [
        "from sklearn.model_selection import train_test_split"
      ],
      "execution_count": 0,
      "outputs": []
    },
    {
      "cell_type": "code",
      "metadata": {
        "id": "RkuxDsreIRFl",
        "colab_type": "code",
        "colab": {}
      },
      "source": [
        "x_train,x_valid,train_label,valid_label = train_test_split(train_x,y_train_one_hot,test_size=0.2,random_state=1)"
      ],
      "execution_count": 0,
      "outputs": []
    },
    {
      "cell_type": "code",
      "metadata": {
        "id": "WJLLZY0cI0r-",
        "colab_type": "code",
        "outputId": "1192ed81-2d3c-45a6-eaf7-a3eee093c55c",
        "colab": {
          "base_uri": "https://localhost:8080/",
          "height": 35
        }
      },
      "source": [
        "print(x_train.shape,x_valid.shape,train_label.shape,valid_label.shape)"
      ],
      "execution_count": 0,
      "outputs": [
        {
          "output_type": "stream",
          "text": [
            "(48000, 28, 28, 1) (12000, 28, 28, 1) (48000, 10) (12000, 10)\n"
          ],
          "name": "stdout"
        }
      ]
    },
    {
      "cell_type": "markdown",
      "metadata": {
        "id": "Yqbk5ov8Jfz3",
        "colab_type": "text"
      },
      "source": [
        "## Model "
      ]
    },
    {
      "cell_type": "code",
      "metadata": {
        "id": "e6WL4GZmI-Jv",
        "colab_type": "code",
        "colab": {}
      },
      "source": [
        "import keras\n",
        "from keras.models import Sequential\n",
        "from keras.layers import Convolution2D\n",
        "from keras.layers import MaxPooling2D,Dense,Flatten,Dropout  \n",
        "from keras.layers.advanced_activations import LeakyReLU"
      ],
      "execution_count": 0,
      "outputs": []
    },
    {
      "cell_type": "code",
      "metadata": {
        "id": "0V4hs0oMJ-_T",
        "colab_type": "code",
        "outputId": "2744b8c6-e891-4a08-f8b2-b12e85740168",
        "colab": {
          "base_uri": "https://localhost:8080/",
          "height": 183
        }
      },
      "source": [
        "clf = Sequential()\n",
        "\n",
        "#Convolution  layer_1 \n",
        "clf.add(Convolution2D(32,kernel_size=(3,3),activation='linear',input_shape=(28,28,1)))\n",
        "clf.add(LeakyReLU(alpha=0.1))\n",
        "clf.add(MaxPooling2D(pool_size=(2,2)))\n",
        "\n",
        "#layer-2\n",
        "clf.add(Convolution2D(64,kernel_size=(3,3),activation='linear'))\n",
        "clf.add(LeakyReLU(alpha=0.1))\n",
        "clf.add(MaxPooling2D(pool_size=(2,2)))\n",
        "\n",
        "#layer-3\n",
        "clf.add(Convolution2D(128,kernel_size=(3,3),activation='linear'))\n",
        "clf.add(LeakyReLU(alpha=0.1))\n",
        "clf.add(MaxPooling2D(pool_size=(2,2)))\n",
        "\n",
        "#flatten layer\n",
        "clf.add(Flatten())\n",
        "\n",
        "#FeedForward layers\n",
        "\n",
        "clf.add(Dense(128,activation='linear'))\n",
        "clf.add(LeakyReLU(alpha=0.1))\n",
        "clf.add(Dense(64,activation='linear'))\n",
        "clf.add(LeakyReLU(alpha=0.1))\n",
        "clf.add(Dense(32,activation='linear'))\n",
        "clf.add(LeakyReLU(alpha=0.1))\n",
        "\n",
        "#output layer \n",
        "clf.add(Dense(10,activation='softmax'))"
      ],
      "execution_count": 0,
      "outputs": [
        {
          "output_type": "stream",
          "text": [
            "WARNING:tensorflow:From /usr/local/lib/python3.6/dist-packages/keras/backend/tensorflow_backend.py:66: The name tf.get_default_graph is deprecated. Please use tf.compat.v1.get_default_graph instead.\n",
            "\n",
            "WARNING:tensorflow:From /usr/local/lib/python3.6/dist-packages/keras/backend/tensorflow_backend.py:541: The name tf.placeholder is deprecated. Please use tf.compat.v1.placeholder instead.\n",
            "\n",
            "WARNING:tensorflow:From /usr/local/lib/python3.6/dist-packages/keras/backend/tensorflow_backend.py:4432: The name tf.random_uniform is deprecated. Please use tf.random.uniform instead.\n",
            "\n",
            "WARNING:tensorflow:From /usr/local/lib/python3.6/dist-packages/keras/backend/tensorflow_backend.py:4267: The name tf.nn.max_pool is deprecated. Please use tf.nn.max_pool2d instead.\n",
            "\n"
          ],
          "name": "stdout"
        }
      ]
    },
    {
      "cell_type": "markdown",
      "metadata": {
        "id": "kZXPHnl7NvTu",
        "colab_type": "text"
      },
      "source": [
        "Compiling Model "
      ]
    },
    {
      "cell_type": "code",
      "metadata": {
        "id": "QUOpzQ7DLcC2",
        "colab_type": "code",
        "outputId": "b34a7dbd-136f-4078-e9f5-ff01c327a5e4",
        "colab": {
          "base_uri": "https://localhost:8080/",
          "height": 110
        }
      },
      "source": [
        "clf.compile(optimizer='adam',loss=keras.losses.categorical_crossentropy,metrics=['accuracy'])"
      ],
      "execution_count": 0,
      "outputs": [
        {
          "output_type": "stream",
          "text": [
            "WARNING:tensorflow:From /usr/local/lib/python3.6/dist-packages/keras/optimizers.py:793: The name tf.train.Optimizer is deprecated. Please use tf.compat.v1.train.Optimizer instead.\n",
            "\n",
            "WARNING:tensorflow:From /usr/local/lib/python3.6/dist-packages/keras/backend/tensorflow_backend.py:3576: The name tf.log is deprecated. Please use tf.math.log instead.\n",
            "\n"
          ],
          "name": "stdout"
        }
      ]
    },
    {
      "cell_type": "code",
      "metadata": {
        "id": "Jy1m15GDN61z",
        "colab_type": "code",
        "outputId": "9caa6b8d-ad27-4d20-c179-bac24ff247c0",
        "colab": {
          "base_uri": "https://localhost:8080/",
          "height": 781
        }
      },
      "source": [
        "clf.summary()"
      ],
      "execution_count": 0,
      "outputs": [
        {
          "output_type": "stream",
          "text": [
            "Model: \"sequential_1\"\n",
            "_________________________________________________________________\n",
            "Layer (type)                 Output Shape              Param #   \n",
            "=================================================================\n",
            "conv2d_1 (Conv2D)            (None, 26, 26, 32)        320       \n",
            "_________________________________________________________________\n",
            "leaky_re_lu_1 (LeakyReLU)    (None, 26, 26, 32)        0         \n",
            "_________________________________________________________________\n",
            "max_pooling2d_1 (MaxPooling2 (None, 13, 13, 32)        0         \n",
            "_________________________________________________________________\n",
            "conv2d_2 (Conv2D)            (None, 11, 11, 64)        18496     \n",
            "_________________________________________________________________\n",
            "leaky_re_lu_2 (LeakyReLU)    (None, 11, 11, 64)        0         \n",
            "_________________________________________________________________\n",
            "max_pooling2d_2 (MaxPooling2 (None, 5, 5, 64)          0         \n",
            "_________________________________________________________________\n",
            "conv2d_3 (Conv2D)            (None, 3, 3, 128)         73856     \n",
            "_________________________________________________________________\n",
            "leaky_re_lu_3 (LeakyReLU)    (None, 3, 3, 128)         0         \n",
            "_________________________________________________________________\n",
            "max_pooling2d_3 (MaxPooling2 (None, 1, 1, 128)         0         \n",
            "_________________________________________________________________\n",
            "flatten_1 (Flatten)          (None, 128)               0         \n",
            "_________________________________________________________________\n",
            "dense_1 (Dense)              (None, 128)               16512     \n",
            "_________________________________________________________________\n",
            "leaky_re_lu_4 (LeakyReLU)    (None, 128)               0         \n",
            "_________________________________________________________________\n",
            "dense_2 (Dense)              (None, 64)                8256      \n",
            "_________________________________________________________________\n",
            "leaky_re_lu_5 (LeakyReLU)    (None, 64)                0         \n",
            "_________________________________________________________________\n",
            "dense_3 (Dense)              (None, 32)                2080      \n",
            "_________________________________________________________________\n",
            "leaky_re_lu_6 (LeakyReLU)    (None, 32)                0         \n",
            "_________________________________________________________________\n",
            "dense_4 (Dense)              (None, 10)                330       \n",
            "=================================================================\n",
            "Total params: 119,850\n",
            "Trainable params: 119,850\n",
            "Non-trainable params: 0\n",
            "_________________________________________________________________\n"
          ],
          "name": "stdout"
        }
      ]
    },
    {
      "cell_type": "markdown",
      "metadata": {
        "id": "nyDOYrnGOQ4t",
        "colab_type": "text"
      },
      "source": [
        "Training the Model "
      ]
    },
    {
      "cell_type": "code",
      "metadata": {
        "id": "WPl1T8JUOFVr",
        "colab_type": "code",
        "outputId": "86b65d06-fc30-4cc8-af2c-9b52fff10d7e",
        "colab": {
          "base_uri": "https://localhost:8080/",
          "height": 1000
        }
      },
      "source": [
        "model = clf.fit(x_train,train_label,batch_size=50,epochs=30,verbose=1,validation_data=(x_valid,valid_label))"
      ],
      "execution_count": 0,
      "outputs": [
        {
          "output_type": "stream",
          "text": [
            "WARNING:tensorflow:From /usr/local/lib/python3.6/dist-packages/tensorflow_core/python/ops/math_grad.py:1424: where (from tensorflow.python.ops.array_ops) is deprecated and will be removed in a future version.\n",
            "Instructions for updating:\n",
            "Use tf.where in 2.0, which has the same broadcast rule as np.where\n",
            "WARNING:tensorflow:From /usr/local/lib/python3.6/dist-packages/keras/backend/tensorflow_backend.py:1033: The name tf.assign_add is deprecated. Please use tf.compat.v1.assign_add instead.\n",
            "\n",
            "WARNING:tensorflow:From /usr/local/lib/python3.6/dist-packages/keras/backend/tensorflow_backend.py:1020: The name tf.assign is deprecated. Please use tf.compat.v1.assign instead.\n",
            "\n",
            "WARNING:tensorflow:From /usr/local/lib/python3.6/dist-packages/keras/backend/tensorflow_backend.py:3005: The name tf.Session is deprecated. Please use tf.compat.v1.Session instead.\n",
            "\n",
            "Train on 48000 samples, validate on 12000 samples\n",
            "Epoch 1/30\n",
            "WARNING:tensorflow:From /usr/local/lib/python3.6/dist-packages/keras/backend/tensorflow_backend.py:190: The name tf.get_default_session is deprecated. Please use tf.compat.v1.get_default_session instead.\n",
            "\n",
            "WARNING:tensorflow:From /usr/local/lib/python3.6/dist-packages/keras/backend/tensorflow_backend.py:197: The name tf.ConfigProto is deprecated. Please use tf.compat.v1.ConfigProto instead.\n",
            "\n",
            "WARNING:tensorflow:From /usr/local/lib/python3.6/dist-packages/keras/backend/tensorflow_backend.py:207: The name tf.global_variables is deprecated. Please use tf.compat.v1.global_variables instead.\n",
            "\n",
            "WARNING:tensorflow:From /usr/local/lib/python3.6/dist-packages/keras/backend/tensorflow_backend.py:216: The name tf.is_variable_initialized is deprecated. Please use tf.compat.v1.is_variable_initialized instead.\n",
            "\n",
            "WARNING:tensorflow:From /usr/local/lib/python3.6/dist-packages/keras/backend/tensorflow_backend.py:223: The name tf.variables_initializer is deprecated. Please use tf.compat.v1.variables_initializer instead.\n",
            "\n",
            "48000/48000 [==============================] - 26s 545us/step - loss: 0.6191 - acc: 0.7702 - val_loss: 0.4434 - val_acc: 0.8362\n",
            "Epoch 2/30\n",
            "48000/48000 [==============================] - 13s 272us/step - loss: 0.4110 - acc: 0.8502 - val_loss: 0.3908 - val_acc: 0.8524\n",
            "Epoch 3/30\n",
            "48000/48000 [==============================] - 13s 272us/step - loss: 0.3508 - acc: 0.8717 - val_loss: 0.3310 - val_acc: 0.8787\n",
            "Epoch 4/30\n",
            "48000/48000 [==============================] - 13s 271us/step - loss: 0.3134 - acc: 0.8819 - val_loss: 0.3261 - val_acc: 0.8769\n",
            "Epoch 5/30\n",
            "48000/48000 [==============================] - 13s 272us/step - loss: 0.2794 - acc: 0.8965 - val_loss: 0.3098 - val_acc: 0.8879\n",
            "Epoch 6/30\n",
            "48000/48000 [==============================] - 13s 270us/step - loss: 0.2584 - acc: 0.9044 - val_loss: 0.2849 - val_acc: 0.8995\n",
            "Epoch 7/30\n",
            "48000/48000 [==============================] - 13s 271us/step - loss: 0.2363 - acc: 0.9128 - val_loss: 0.2827 - val_acc: 0.8971\n",
            "Epoch 8/30\n",
            "48000/48000 [==============================] - 13s 271us/step - loss: 0.2147 - acc: 0.9214 - val_loss: 0.3061 - val_acc: 0.8908\n",
            "Epoch 9/30\n",
            "48000/48000 [==============================] - 13s 270us/step - loss: 0.2004 - acc: 0.9253 - val_loss: 0.3074 - val_acc: 0.8934\n",
            "Epoch 10/30\n",
            "48000/48000 [==============================] - 13s 271us/step - loss: 0.1837 - acc: 0.9308 - val_loss: 0.3083 - val_acc: 0.8946\n",
            "Epoch 11/30\n",
            "48000/48000 [==============================] - 13s 271us/step - loss: 0.1697 - acc: 0.9375 - val_loss: 0.2855 - val_acc: 0.9030\n",
            "Epoch 12/30\n",
            "48000/48000 [==============================] - 14s 282us/step - loss: 0.1547 - acc: 0.9434 - val_loss: 0.3210 - val_acc: 0.8982\n",
            "Epoch 13/30\n",
            "48000/48000 [==============================] - 13s 271us/step - loss: 0.1455 - acc: 0.9458 - val_loss: 0.3354 - val_acc: 0.8972\n",
            "Epoch 14/30\n",
            "48000/48000 [==============================] - 13s 270us/step - loss: 0.1330 - acc: 0.9493 - val_loss: 0.3378 - val_acc: 0.8986\n",
            "Epoch 15/30\n",
            "48000/48000 [==============================] - 13s 269us/step - loss: 0.1249 - acc: 0.9531 - val_loss: 0.3484 - val_acc: 0.8983\n",
            "Epoch 16/30\n",
            "48000/48000 [==============================] - 13s 272us/step - loss: 0.1154 - acc: 0.9564 - val_loss: 0.3601 - val_acc: 0.9018\n",
            "Epoch 17/30\n",
            "48000/48000 [==============================] - 13s 270us/step - loss: 0.1078 - acc: 0.9599 - val_loss: 0.3576 - val_acc: 0.9007\n",
            "Epoch 18/30\n",
            "48000/48000 [==============================] - 13s 270us/step - loss: 0.1013 - acc: 0.9625 - val_loss: 0.3855 - val_acc: 0.8932\n",
            "Epoch 19/30\n",
            "48000/48000 [==============================] - 13s 271us/step - loss: 0.0972 - acc: 0.9637 - val_loss: 0.4024 - val_acc: 0.8946\n",
            "Epoch 20/30\n",
            "48000/48000 [==============================] - 13s 272us/step - loss: 0.0915 - acc: 0.9650 - val_loss: 0.4308 - val_acc: 0.8982\n",
            "Epoch 21/30\n",
            "48000/48000 [==============================] - 13s 271us/step - loss: 0.0880 - acc: 0.9673 - val_loss: 0.3982 - val_acc: 0.8964\n",
            "Epoch 22/30\n",
            "48000/48000 [==============================] - 13s 272us/step - loss: 0.0787 - acc: 0.9702 - val_loss: 0.4107 - val_acc: 0.9002\n",
            "Epoch 23/30\n",
            "48000/48000 [==============================] - 13s 272us/step - loss: 0.0774 - acc: 0.9704 - val_loss: 0.4384 - val_acc: 0.8972\n",
            "Epoch 24/30\n",
            "48000/48000 [==============================] - 13s 272us/step - loss: 0.0729 - acc: 0.9725 - val_loss: 0.4745 - val_acc: 0.8977\n",
            "Epoch 25/30\n",
            "48000/48000 [==============================] - 13s 271us/step - loss: 0.0700 - acc: 0.9735 - val_loss: 0.4833 - val_acc: 0.8998\n",
            "Epoch 26/30\n",
            "48000/48000 [==============================] - 13s 270us/step - loss: 0.0650 - acc: 0.9750 - val_loss: 0.4912 - val_acc: 0.8935\n",
            "Epoch 27/30\n",
            "48000/48000 [==============================] - 13s 270us/step - loss: 0.0643 - acc: 0.9762 - val_loss: 0.4769 - val_acc: 0.8993\n",
            "Epoch 28/30\n",
            "48000/48000 [==============================] - 13s 271us/step - loss: 0.0593 - acc: 0.9777 - val_loss: 0.4973 - val_acc: 0.8952\n",
            "Epoch 29/30\n",
            "48000/48000 [==============================] - 13s 271us/step - loss: 0.0627 - acc: 0.9766 - val_loss: 0.5102 - val_acc: 0.8896\n",
            "Epoch 30/30\n",
            "48000/48000 [==============================] - 13s 273us/step - loss: 0.0537 - acc: 0.9807 - val_loss: 0.4964 - val_acc: 0.8931\n"
          ],
          "name": "stdout"
        }
      ]
    },
    {
      "cell_type": "code",
      "metadata": {
        "id": "TopbgIRqO7_a",
        "colab_type": "code",
        "outputId": "b7a32aae-45c0-4028-d777-46a37e9c3f16",
        "colab": {
          "base_uri": "https://localhost:8080/",
          "height": 54
        }
      },
      "source": [
        "clf.evaluate(test_x,y_test_one_hot)"
      ],
      "execution_count": 0,
      "outputs": [
        {
          "output_type": "stream",
          "text": [
            "10000/10000 [==============================] - 1s 108us/step\n"
          ],
          "name": "stdout"
        },
        {
          "output_type": "execute_result",
          "data": {
            "text/plain": [
              "[0.5581974759995937, 0.889]"
            ]
          },
          "metadata": {
            "tags": []
          },
          "execution_count": 21
        }
      ]
    },
    {
      "cell_type": "code",
      "metadata": {
        "id": "nCo7kxM3UW8a",
        "colab_type": "code",
        "outputId": "00d363d6-5251-4416-f003-0b1bd6fa7546",
        "colab": {
          "base_uri": "https://localhost:8080/",
          "height": 545
        }
      },
      "source": [
        "accuracy = model.history['acc']\n",
        "val_acc = model.history['val_acc']\n",
        "loss = model.history['loss']\n",
        "val_loss = model.history['val_loss']\n",
        "epochs = range(len(accuracy))\n",
        "\n",
        "plt.plot(epochs,accuracy,'bo',label='Training accuracy')\n",
        "plt.plot(epochs,val_acc,'b',label='Validation accuracy')\n",
        "plt.title('Training accuracy and validation accuracy ')\n",
        "plt.legend()\n",
        "plt.figure()\n",
        "#loss\n",
        "plt.plot(epochs,loss,'bo',label='Training Loss')\n",
        "plt.plot(epochs,val_loss,'b',label='Validation Loss')\n",
        "plt.title('Training and Validation Loss')\n",
        "plt.legend()\n",
        "plt.show()"
      ],
      "execution_count": 0,
      "outputs": [
        {
          "output_type": "display_data",
          "data": {
            "image/png": "[encoded data removed]",
            "text/plain": [
              "<Figure size 432x288 with 1 Axes>"
            ]
          },
          "metadata": {
            "tags": []
          }
        },
        {
          "output_type": "display_data",
          "data": {
            "image/png": "[encoded data removed]",
            "text/plain": [
              "<Figure size 432x288 with 1 Axes>"
            ]
          },
          "metadata": {
            "tags": []
          }
        }
      ]
    },
    {
      "cell_type": "markdown",
      "metadata": {
        "id": "zHGZdmj0Yp6T",
        "colab_type": "text"
      },
      "source": [
        "Adding Dropout to Network"
      ]
    },
    {
      "cell_type": "code",
      "metadata": {
        "id": "yG045IkzWFjC",
        "colab_type": "code",
        "outputId": "d77e4441-c099-4d82-debe-9c40fa5e7f4f",
        "colab": {
          "base_uri": "https://localhost:8080/",
          "height": 128
        }
      },
      "source": [
        "clf2 = Sequential()\n",
        "clf2.add(Convolution2D(32,kernel_size=(3,3),activation='linear',input_shape=(28,28,1)))\n",
        "clf2.add(LeakyReLU(alpha=0.1))\n",
        "clf2.add(MaxPooling2D(pool_size=(2,2)))\n",
        "clf2.add(Dropout(0.25))\n",
        "\n",
        "clf2.add(Convolution2D(64,(3,3),activation='linear'))\n",
        "clf2.add(LeakyReLU(alpha=0.1))\n",
        "clf2.add(MaxPooling2D(pool_size=(2,2)))\n",
        "clf2.add(Dropout(0.25))\n",
        "\n",
        "\n",
        "clf2.add(Convolution2D(128,(3,3),activation='linear'))\n",
        "clf2.add(LeakyReLU(alpha=0.1))\n",
        "clf2.add(MaxPooling2D(pool_size=(2,2)))\n",
        "clf2.add(Dropout(0.3))\n",
        "\n",
        "clf2.add(Flatten())\n",
        "\n",
        "clf2.add(Dense(128,activation='linear'))\n",
        "clf2.add(LeakyReLU(alpha=0.1))\n",
        "clf2.add(Dropout(0.3))\n",
        "clf2.add(Dense(10,activation='softmax'))"
      ],
      "execution_count": 0,
      "outputs": [
        {
          "output_type": "stream",
          "text": [
            "WARNING:tensorflow:From /usr/local/lib/python3.6/dist-packages/keras/backend/tensorflow_backend.py:148: The name tf.placeholder_with_default is deprecated. Please use tf.compat.v1.placeholder_with_default instead.\n",
            "\n",
            "WARNING:tensorflow:From /usr/local/lib/python3.6/dist-packages/keras/backend/tensorflow_backend.py:3733: calling dropout (from tensorflow.python.ops.nn_ops) with keep_prob is deprecated and will be removed in a future version.\n",
            "Instructions for updating:\n",
            "Please use `rate` instead of `keep_prob`. Rate should be set to `rate = 1 - keep_prob`.\n"
          ],
          "name": "stdout"
        }
      ]
    },
    {
      "cell_type": "code",
      "metadata": {
        "id": "AR-udS2ca64a",
        "colab_type": "code",
        "colab": {}
      },
      "source": [
        "clf2.compile(optimizer='adam',loss=keras.losses.categorical_crossentropy,metrics=['accuracy'])"
      ],
      "execution_count": 0,
      "outputs": []
    },
    {
      "cell_type": "code",
      "metadata": {
        "id": "VPH7ri9zbmXq",
        "colab_type": "code",
        "outputId": "bb2fb5ad-f483-4ce8-b634-dc7f4857784b",
        "colab": {
          "base_uri": "https://localhost:8080/",
          "height": 1000
        }
      },
      "source": [
        "model_dropout = clf2.fit(x_train,train_label,batch_size=65,epochs=30,verbose=1,validation_data=(x_valid,valid_label))"
      ],
      "execution_count": 0,
      "outputs": [
        {
          "output_type": "stream",
          "text": [
            "Train on 48000 samples, validate on 12000 samples\n",
            "Epoch 1/30\n",
            "48000/48000 [==============================] - 10s 213us/step - loss: 0.8069 - acc: 0.6986 - val_loss: 0.5080 - val_acc: 0.8081\n",
            "Epoch 2/30\n",
            "48000/48000 [==============================] - 9s 190us/step - loss: 0.5376 - acc: 0.8037 - val_loss: 0.4219 - val_acc: 0.8400\n",
            "Epoch 3/30\n",
            "48000/48000 [==============================] - 9s 191us/step - loss: 0.4647 - acc: 0.8330 - val_loss: 0.3792 - val_acc: 0.8588\n",
            "Epoch 4/30\n",
            "48000/48000 [==============================] - 9s 192us/step - loss: 0.4239 - acc: 0.8448 - val_loss: 0.3580 - val_acc: 0.8653\n",
            "Epoch 5/30\n",
            "48000/48000 [==============================] - 9s 189us/step - loss: 0.4013 - acc: 0.8548 - val_loss: 0.3358 - val_acc: 0.8747\n",
            "Epoch 6/30\n",
            "48000/48000 [==============================] - 9s 191us/step - loss: 0.3848 - acc: 0.8609 - val_loss: 0.3300 - val_acc: 0.8752\n",
            "Epoch 7/30\n",
            "48000/48000 [==============================] - 9s 190us/step - loss: 0.3704 - acc: 0.8632 - val_loss: 0.3164 - val_acc: 0.8796\n",
            "Epoch 8/30\n",
            "48000/48000 [==============================] - 9s 191us/step - loss: 0.3604 - acc: 0.8686 - val_loss: 0.3082 - val_acc: 0.8824\n",
            "Epoch 9/30\n",
            "48000/48000 [==============================] - 9s 190us/step - loss: 0.3481 - acc: 0.8733 - val_loss: 0.3059 - val_acc: 0.8857\n",
            "Epoch 10/30\n",
            "48000/48000 [==============================] - 9s 190us/step - loss: 0.3454 - acc: 0.8715 - val_loss: 0.3117 - val_acc: 0.8806\n",
            "Epoch 11/30\n",
            "48000/48000 [==============================] - 9s 189us/step - loss: 0.3323 - acc: 0.8774 - val_loss: 0.2974 - val_acc: 0.8893\n",
            "Epoch 12/30\n",
            "48000/48000 [==============================] - 9s 190us/step - loss: 0.3293 - acc: 0.8785 - val_loss: 0.2926 - val_acc: 0.8887\n",
            "Epoch 13/30\n",
            "48000/48000 [==============================] - 9s 189us/step - loss: 0.3245 - acc: 0.8792 - val_loss: 0.2895 - val_acc: 0.8883\n",
            "Epoch 14/30\n",
            "48000/48000 [==============================] - 9s 190us/step - loss: 0.3192 - acc: 0.8821 - val_loss: 0.2910 - val_acc: 0.8876\n",
            "Epoch 15/30\n",
            "48000/48000 [==============================] - 9s 189us/step - loss: 0.3162 - acc: 0.8842 - val_loss: 0.2877 - val_acc: 0.8928\n",
            "Epoch 16/30\n",
            "48000/48000 [==============================] - 9s 192us/step - loss: 0.3097 - acc: 0.8854 - val_loss: 0.2805 - val_acc: 0.8922\n",
            "Epoch 17/30\n",
            "48000/48000 [==============================] - 10s 199us/step - loss: 0.3085 - acc: 0.8864 - val_loss: 0.2838 - val_acc: 0.8944\n",
            "Epoch 18/30\n",
            "48000/48000 [==============================] - 9s 190us/step - loss: 0.3067 - acc: 0.8875 - val_loss: 0.2742 - val_acc: 0.8974\n",
            "Epoch 19/30\n",
            "48000/48000 [==============================] - 9s 189us/step - loss: 0.3018 - acc: 0.8887 - val_loss: 0.2770 - val_acc: 0.8962\n",
            "Epoch 20/30\n",
            "48000/48000 [==============================] - 9s 190us/step - loss: 0.2995 - acc: 0.8878 - val_loss: 0.2853 - val_acc: 0.8906\n",
            "Epoch 21/30\n",
            "48000/48000 [==============================] - 9s 189us/step - loss: 0.2974 - acc: 0.8895 - val_loss: 0.2726 - val_acc: 0.8981\n",
            "Epoch 22/30\n",
            "48000/48000 [==============================] - 9s 190us/step - loss: 0.2968 - acc: 0.8901 - val_loss: 0.2716 - val_acc: 0.8973\n",
            "Epoch 23/30\n",
            "48000/48000 [==============================] - 9s 189us/step - loss: 0.2960 - acc: 0.8914 - val_loss: 0.2806 - val_acc: 0.8898\n",
            "Epoch 24/30\n",
            "48000/48000 [==============================] - 9s 190us/step - loss: 0.2900 - acc: 0.8920 - val_loss: 0.2658 - val_acc: 0.8974\n",
            "Epoch 25/30\n",
            "48000/48000 [==============================] - 9s 189us/step - loss: 0.2861 - acc: 0.8938 - val_loss: 0.2677 - val_acc: 0.8986\n",
            "Epoch 26/30\n",
            "48000/48000 [==============================] - 9s 190us/step - loss: 0.2865 - acc: 0.8930 - val_loss: 0.2713 - val_acc: 0.8953\n",
            "Epoch 27/30\n",
            "48000/48000 [==============================] - 9s 189us/step - loss: 0.2865 - acc: 0.8926 - val_loss: 0.2730 - val_acc: 0.8973\n",
            "Epoch 28/30\n",
            "48000/48000 [==============================] - 9s 189us/step - loss: 0.2820 - acc: 0.8952 - val_loss: 0.2675 - val_acc: 0.8982\n",
            "Epoch 29/30\n",
            "48000/48000 [==============================] - 9s 189us/step - loss: 0.2782 - acc: 0.8962 - val_loss: 0.2886 - val_acc: 0.8922\n",
            "Epoch 30/30\n",
            "48000/48000 [==============================] - 9s 189us/step - loss: 0.2791 - acc: 0.8956 - val_loss: 0.2636 - val_acc: 0.9003\n"
          ],
          "name": "stdout"
        }
      ]
    },
    {
      "cell_type": "code",
      "metadata": {
        "id": "BEFk-G0Ob-xD",
        "colab_type": "code",
        "outputId": "6b5920af-eef5-4add-c4fa-1f23b601d569",
        "colab": {
          "base_uri": "https://localhost:8080/",
          "height": 50
        }
      },
      "source": [
        "clf2.evaluate(test_x,y_test_one_hot)"
      ],
      "execution_count": 0,
      "outputs": [
        {
          "output_type": "stream",
          "text": [
            "10000/10000 [==============================] - 1s 54us/step\n"
          ],
          "name": "stdout"
        },
        {
          "output_type": "execute_result",
          "data": {
            "text/plain": [
              "[0.29484880625009535, 0.8918]"
            ]
          },
          "metadata": {
            "tags": []
          },
          "execution_count": 66
        }
      ]
    },
    {
      "cell_type": "code",
      "metadata": {
        "id": "6Mao5raQeAo1",
        "colab_type": "code",
        "colab": {}
      },
      "source": [
        "clf2.save('model.kb')"
      ],
      "execution_count": 0,
      "outputs": []
    },
    {
      "cell_type": "code",
      "metadata": {
        "id": "p0SQIuAigBOr",
        "colab_type": "code",
        "outputId": "08c2a931-b1d1-4e9b-d11d-fb11e1285280",
        "colab": {
          "base_uri": "https://localhost:8080/",
          "height": 545
        }
      },
      "source": [
        "acc = model_dropout.history['acc']\n",
        "val_acc = model_dropout.history['val_acc']\n",
        "loss = model_dropout.history['loss']\n",
        "valid_loss = model_dropout.history['val_loss']\n",
        "epochs = range(len(accuracy))\n",
        "plt.plot(epochs,acc,'bo',label='Training accuracy')\n",
        "plt.plot(epochs,val_acc,'b',label='Validation accuracy')\n",
        "plt.title('Trainning and Validation accuracy')\n",
        "plt.legend()\n",
        "plt.figure()\n",
        "\n",
        "plt.plot(epochs,loss,'bo',label='Training Loss')\n",
        "plt.plot(epochs,valid_loss,'b',label='Validation Loss')\n",
        "plt.title('Training and Validation Loss')\n",
        "plt.legend()\n",
        "plt.show()"
      ],
      "execution_count": 0,
      "outputs": [
        {
          "output_type": "display_data",
          "data": {
            "image/png": "[encoded data removed]",
            "text/plain": [
              "<Figure size 432x288 with 1 Axes>"
            ]
          },
          "metadata": {
            "tags": []
          }
        },
        {
          "output_type": "display_data",
          "data": {
            "image/png": "[encoded data removed]",
            "text/plain": [
              "<Figure size 432x288 with 1 Axes>"
            ]
          },
          "metadata": {
            "tags": []
          }
        }
      ]
    },
    {
      "cell_type": "markdown",
      "metadata": {
        "id": "LdDMppTmlV3e",
        "colab_type": "text"
      },
      "source": [
        "Predict "
      ]
    },
    {
      "cell_type": "code",
      "metadata": {
        "id": "PyZMon5gizQj",
        "colab_type": "code",
        "colab": {}
      },
      "source": [
        "predict_labels = clf2.predict(test_x)"
      ],
      "execution_count": 0,
      "outputs": []
    },
    {
      "cell_type": "code",
      "metadata": {
        "id": "NKW7E4IQleFz",
        "colab_type": "code",
        "outputId": "96c4448c-2142-4263-8778-c06e2aac5cac",
        "colab": {
          "base_uri": "https://localhost:8080/",
          "height": 235
        }
      },
      "source": [
        "predict_labels"
      ],
      "execution_count": 0,
      "outputs": [
        {
          "output_type": "execute_result",
          "data": {
            "text/plain": [
              "array([[4.31991376e-09, 7.51063378e-11, 2.47288266e-11, ...,\n",
              "        3.21037194e-04, 2.92960856e-09, 9.99678135e-01],\n",
              "       [1.39703654e-04, 1.50591627e-12, 9.99644279e-01, ...,\n",
              "        3.97462468e-17, 7.48751631e-07, 1.19549469e-17],\n",
              "       [1.85441029e-12, 1.00000000e+00, 5.88613021e-14, ...,\n",
              "        8.95039981e-26, 5.76101666e-15, 3.11704221e-19],\n",
              "       ...,\n",
              "       [2.03858352e-08, 6.07321693e-11, 7.10090597e-11, ...,\n",
              "        1.16873344e-10, 1.00000000e+00, 7.43613417e-12],\n",
              "       [5.11465382e-13, 1.00000000e+00, 1.04174575e-14, ...,\n",
              "        1.97662504e-26, 6.67073915e-17, 8.85884845e-20],\n",
              "       [7.57313910e-06, 1.17907484e-06, 1.92094762e-06, ...,\n",
              "        2.26240829e-02, 8.31479498e-04, 2.32370643e-04]], dtype=float32)"
            ]
          },
          "metadata": {
            "tags": []
          },
          "execution_count": 70
        }
      ]
    },
    {
      "cell_type": "code",
      "metadata": {
        "id": "dOTvcDl6liI2",
        "colab_type": "code",
        "colab": {}
      },
      "source": [
        "predicted_classes = np.argmax(np.round(predict_labels),axis=1)"
      ],
      "execution_count": 0,
      "outputs": []
    },
    {
      "cell_type": "markdown",
      "metadata": {
        "id": "4DXUpZNwmflX",
        "colab_type": "text"
      },
      "source": [
        "Correctly classified "
      ]
    },
    {
      "cell_type": "code",
      "metadata": {
        "id": "7tQfwo_Sl1iH",
        "colab_type": "code",
        "outputId": "8b8a2ff3-b9f5-4bb7-c2b5-bc6803a343f5",
        "colab": {
          "base_uri": "https://localhost:8080/",
          "height": 1000
        }
      },
      "source": [
        "correct = np.where(predicted_classes == test_y)[0]\n",
        "print(f'found {len(correct)} correct labels')\n",
        "\n",
        "for i,correct in enumerate(correct[:9]):\n",
        "  plt.subplot(3,3,i+1)\n",
        "  plt.imshow(test_x[correct].reshape(28,28),cmap='gray')\n",
        "  plt.title(f'Predicted class: {predicted_classes[correct]}   ||   Actual class : {test_y[correct]}')\n",
        "  plt.show()"
      ],
      "execution_count": 0,
      "outputs": [
        {
          "output_type": "stream",
          "text": [
            "found 8840 correct labels\n"
          ],
          "name": "stdout"
        },
        {
          "output_type": "display_data",
          "data": {
            "image/png": "[encoded data removed]",
            "text/plain": [
              "<Figure size 432x288 with 1 Axes>"
            ]
          },
          "metadata": {
            "tags": []
          }
        },
        {
          "output_type": "display_data",
          "data": {
            "image/png": "[encoded data removed]",
            "text/plain": [
              "<Figure size 432x288 with 1 Axes>"
            ]
          },
          "metadata": {
            "tags": []
          }
        },
        {
          "output_type": "display_data",
          "data": {
            "image/png": "[encoded data removed]",
            "text/plain": [
              "<Figure size 432x288 with 1 Axes>"
            ]
          },
          "metadata": {
            "tags": []
          }
        },
        {
          "output_type": "display_data",
          "data": {
            "image/png": "[encoded data removed]",
            "text/plain": [
              "<Figure size 432x288 with 1 Axes>"
            ]
          },
          "metadata": {
            "tags": []
          }
        },
        {
          "output_type": "display_data",
          "data": {
            "image/png": "[encoded data removed]",
            "text/plain": [
              "<Figure size 432x288 with 1 Axes>"
            ]
          },
          "metadata": {
            "tags": []
          }
        },
        {
          "output_type": "display_data",
          "data": {
            "image/png": "[encoded data removed]",
            "text/plain": [
              "<Figure size 432x288 with 1 Axes>"
            ]
          },
          "metadata": {
            "tags": []
          }
        },
        {
          "output_type": "display_data",
          "data": {
            "image/png": "[encoded data removed]",
            "text/plain": [
              "<Figure size 432x288 with 1 Axes>"
            ]
          },
          "metadata": {
            "tags": []
          }
        },
        {
          "output_type": "display_data",
          "data": {
            "image/png": "[encoded data removed]",
            "text/plain": [
              "<Figure size 432x288 with 1 Axes>"
            ]
          },
          "metadata": {
            "tags": []
          }
        },
        {
          "output_type": "display_data",
          "data": {
            "image/png": "[encoded data removed]",
            "text/plain": [
              "<Figure size 432x288 with 1 Axes>"
            ]
          },
          "metadata": {
            "tags": []
          }
        }
      ]
    },
    {
      "cell_type": "markdown",
      "metadata": {
        "id": "ZVpUQ83goo1f",
        "colab_type": "text"
      },
      "source": [
        "Incorrectly Classified"
      ]
    },
    {
      "cell_type": "code",
      "metadata": {
        "id": "5XHxUmxLl3Np",
        "colab_type": "code",
        "outputId": "32bed788-f15a-493d-9c22-ffc77a6bf0ef",
        "colab": {
          "base_uri": "https://localhost:8080/",
          "height": 34
        }
      },
      "source": [
        ""
      ],
      "execution_count": 0,
      "outputs": [
        {
          "output_type": "stream",
          "text": [
            "Incorrectly classified : 1160\n"
          ],
          "name": "stdout"
        }
      ]
    },
    {
      "cell_type": "code",
      "metadata": {
        "id": "GKhy2HWAmvDy",
        "colab_type": "code",
        "outputId": "286a0f4b-d4c5-4915-9e19-e02cb5ce168c",
        "colab": {
          "base_uri": "https://localhost:8080/",
          "height": 1000
        }
      },
      "source": [
        "incorrect = np.where(predicted_classes != test_y)[0]\n",
        "print(f'Incorrectly classified : {len(incorrect)}')\n",
        "for i,incorrect in enumerate(incorrect[:9]):\n",
        "  plt.imshow(test_x[incorrect].reshape(28,28),cmap='gray')\n",
        "  plt.title(f'Predicted Class: {predicted_classes[incorrect]} Actual Class : {test_y[incorrect]}')\n",
        "  plt.show()"
      ],
      "execution_count": 0,
      "outputs": [
        {
          "output_type": "stream",
          "text": [
            "Incorrectly classified : 1160\n"
          ],
          "name": "stdout"
        },
        {
          "output_type": "display_data",
          "data": {
            "image/png": "[encoded data removed]",
            "text/plain": [
              "<Figure size 432x288 with 1 Axes>"
            ]
          },
          "metadata": {
            "tags": []
          }
        },
        {
          "output_type": "display_data",
          "data": {
            "image/png": "[encoded data removed]",
            "text/plain": [
              "<Figure size 432x288 with 1 Axes>"
            ]
          },
          "metadata": {
            "tags": []
          }
        },
        {
          "output_type": "display_data",
          "data": {
            "image/png": "[encoded data removed]",
            "text/plain": [
              "<Figure size 432x288 with 1 Axes>"
            ]
          },
          "metadata": {
            "tags": []
          }
        },
        {
          "output_type": "display_data",
          "data": {
            "image/png": "[encoded data removed]",
            "text/plain": [
              "<Figure size 432x288 with 1 Axes>"
            ]
          },
          "metadata": {
            "tags": []
          }
        },
        {
          "output_type": "display_data",
          "data": {
            "image/png": "[encoded data removed]",
            "text/plain": [
              "<Figure size 432x288 with 1 Axes>"
            ]
          },
          "metadata": {
            "tags": []
          }
        },
        {
          "output_type": "display_data",
          "data": {
            "image/png": "[encoded data removed]",
            "text/plain": [
              "<Figure size 432x288 with 1 Axes>"
            ]
          },
          "metadata": {
            "tags": []
          }
        },
        {
          "output_type": "display_data",
          "data": {
            "image/png": "[encoded data removed]",
            "text/plain": [
              "<Figure size 432x288 with 1 Axes>"
            ]
          },
          "metadata": {
            "tags": []
          }
        },
        {
          "output_type": "display_data",
          "data": {
            "image/png": "[encoded data removed]",
            "text/plain": [
              "<Figure size 432x288 with 1 Axes>"
            ]
          },
          "metadata": {
            "tags": []
          }
        },
        {
          "output_type": "display_data",
          "data": {
            "image/png": "[encoded data removed]",
            "text/plain": [
              "<Figure size 432x288 with 1 Axes>"
            ]
          },
          "metadata": {
            "tags": []
          }
        }
      ]
    },
    {
      "cell_type": "markdown",
      "metadata": {
        "id": "SeAS_5k-q6SS",
        "colab_type": "text"
      },
      "source": [
        "Classification Report "
      ]
    },
    {
      "cell_type": "code",
      "metadata": {
        "id": "YJQua8mfpnX8",
        "colab_type": "code",
        "colab": {}
      },
      "source": [
        "from sklearn.metrics import classification_report"
      ],
      "execution_count": 0,
      "outputs": []
    },
    {
      "cell_type": "code",
      "metadata": {
        "id": "HJ7kcv5ZrMuE",
        "colab_type": "code",
        "colab": {}
      },
      "source": [
        "targets = []\n",
        "\n",
        "for i in range(10):\n",
        "  a = 'class '+str(i)\n",
        "  targets.append(a)"
      ],
      "execution_count": 0,
      "outputs": []
    },
    {
      "cell_type": "code",
      "metadata": {
        "id": "IJfTtrBfrByQ",
        "colab_type": "code",
        "outputId": "0b8af781-c439-4bad-d23e-43c4ad6c2958",
        "colab": {
          "base_uri": "https://localhost:8080/",
          "height": 302
        }
      },
      "source": [
        "print(classification_report(test_y,predicted_classes,target_names=targets))"
      ],
      "execution_count": 0,
      "outputs": [
        {
          "output_type": "stream",
          "text": [
            "              precision    recall  f1-score   support\n",
            "\n",
            "     class 0       0.68      0.92      0.78      1000\n",
            "     class 1       0.99      0.97      0.98      1000\n",
            "     class 2       0.81      0.87      0.84      1000\n",
            "     class 3       0.94      0.86      0.90      1000\n",
            "     class 4       0.81      0.83      0.82      1000\n",
            "     class 5       0.98      0.96      0.97      1000\n",
            "     class 6       0.80      0.54      0.65      1000\n",
            "     class 7       0.96      0.95      0.95      1000\n",
            "     class 8       0.98      0.96      0.97      1000\n",
            "     class 9       0.94      0.97      0.95      1000\n",
            "\n",
            "    accuracy                           0.88     10000\n",
            "   macro avg       0.89      0.88      0.88     10000\n",
            "weighted avg       0.89      0.88      0.88     10000\n",
            "\n"
          ],
          "name": "stdout"
        }
      ]
    },
    {
      "cell_type": "code",
      "metadata": {
        "id": "_IEwP7_qrloS",
        "colab_type": "code",
        "colab": {}
      },
      "source": [
        ""
      ],
      "execution_count": 0,
      "outputs": []
    }
  ]
}